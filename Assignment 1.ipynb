{
 "cells": [
  {
   "cell_type": "code",
   "execution_count": null,
   "id": "ac56f2b0-db10-49f5-be16-7605be379c40",
   "metadata": {},
   "outputs": [],
   "source": [
    "In the given elements, the following are values:\n",
    "\n",
    "-87.8 - A floating-point number.\n",
    "'hello' - A string.\n",
    "6 - An integer.\n",
    "The following are expressions:\n",
    "\n",
    "- - A subtraction operator.\n",
    "/ - A division operator.\n",
    "+ - An addition operator.\n",
    "The * character is not an expression by itself. It is an operator that can be used to create an expression, such as *6."
   ]
  },
  {
   "cell_type": "code",
   "execution_count": null,
   "id": "44c44c4a-af70-4823-ae62-a3e37e9516c7",
   "metadata": {},
   "outputs": [],
   "source": [
    "2. What is the difference between string and variable?\n",
    "String is a sequence of characters enclosed in single or double quotes. It is a data type that represents text.\n",
    "Variable is a named location in memory that stores a value. It is a placeholder for a value."
   ]
  },
  {
   "cell_type": "code",
   "execution_count": null,
   "id": "0bce7ceb-0fa2-480f-9961-5d786d3ef942",
   "metadata": {},
   "outputs": [],
   "source": [
    "3. Describe three different data types.\n",
    "here are three different data types:\n",
    "Integer - An integer is a whole number, positive or negative. Examples of integers are 1, 2, 3, -1, -2, -3.\n",
    "Float - A float is a real number, with a decimal point. Examples of floats are 1.0, 2.5, -3.14, 0.0.\n",
    "String - A string is a sequence of characters. Examples of strings are \"hello\", \"world\", \"12345\".\n",
    "There are many other data types in Python, such as booleans, lists, tuples, dictionaries, and sets."
   ]
  },
  {
   "cell_type": "code",
   "execution_count": null,
   "id": "f67bac56-0160-418f-8042-7fe455d7c095",
   "metadata": {},
   "outputs": [],
   "source": [
    "4. What is an expression made up of? What do all expressions do?\n",
    "An expression in Python is a combination of values, variables, and operators that evaluates to a single value.\n",
    "\n",
    "The values in an expression can be numbers, strings, or other expressions. The operators in an expression can be mathematical operators, such as addition (+), subtraction (-), multiplication (*), and division (/), or logical operators, such as and (and), or (or), and not (not).\n",
    "\n",
    "The order of operations in an expression is important. Mathematical operators are evaluated in the following order:\n",
    "\n",
    "Exponentiation (^)\n",
    "Multiplication (*) and division (/)\n",
    "Addition (+) and subtraction (-)\n",
    "Logical operators are evaluated in the following order:\n",
    "\n",
    "Not (not)\n",
    "And (and)\n",
    "Or (or)\n",
    "All expressions evaluate to a single value. This value can be a number, a string, or another expression.\n",
    "\n",
    "Here are some examples of expressions:\n",
    "\n",
    "1 + 2 - This expression evaluates to the number 3.\n",
    "\"hello\" + \"world\" - This expression evaluates to the string \"helloworld\".\n",
    "(1 + 2) * 3 - This expression evaluates to the number 9.\n",
    "not True - This expression evaluates to the value False.\n",
    "\"hello\" and \"world\" - This expression evaluates to the value True."
   ]
  },
  {
   "cell_type": "code",
   "execution_count": null,
   "id": "a2d606b1-1a7a-44d5-814a-43b9c0de210c",
   "metadata": {},
   "outputs": [],
   "source": [
    "5. This assignment statements, like spam = 10. What is the difference between an\n",
    "expression and a statement?\n",
    "an expression in Python is a combination of values, variables, and operators that evaluates to a single value. A statement in Python is a command that tells the interpreter to do something.\n",
    "\n",
    "The main difference between an expression and a statement is that an expression evaluates to a value, while a statement does not.\n",
    "\n",
    "The assignment statement spam = 10 is a statement. It does not evaluate to a value. It simply assigns the value 10 to the variable spam.\n",
    "\n",
    "Here is an example of an expression:\n",
    "\n",
    "1 + 2\n",
    "This expression evaluates to the value 3.\n",
    "\n",
    "Here is an example of a statement:\n",
    "\n",
    "print(\"hello world\")\n",
    "This statement prints the string \"hello world\" to the console."
   ]
  },
  {
   "cell_type": "code",
   "execution_count": null,
   "id": "0e112f29-31db-4118-a3c4-73446f3ef1b6",
   "metadata": {},
   "outputs": [],
   "source": [
    "6. After running the following code, what does the variable bacon contain?\n",
    "bacon = 22\n",
    "bacon + 1\n",
    "\n",
    "The variable bacon will still contain the value 22 after running the following code:\n",
    "\n",
    "Python\n",
    "bacon = 22\n",
    "bacon + 1\n",
    "\n",
    "The second line of code is an expression, not a statement. Expressions do not change the value of variables. In this case, the expression bacon + 1 evaluates to the value 23. However, the value of bacon is not changed because expressions do not change the value of variables.\n",
    "\n",
    "The value of bacon can only be changed by a statement that assigns a new value to it. For example, the following statement would change the value of bacon to 23:"
   ]
  },
  {
   "cell_type": "code",
   "execution_count": null,
   "id": "7cd3730a-077f-4934-a371-5746043e4d4f",
   "metadata": {},
   "outputs": [],
   "source": [
    "\n",
    "7. What should the values of the following two terms be?\n",
    "'spam' + 'spamspam'\n",
    "'spam' * 3\n",
    "\n",
    "\n",
    "'spam' + 'spamspam'\n",
    "This expression evaluates to the string \"spamspamspam\". This is because the + operator is used to concatenate strings.\n",
    "\n",
    "Python\n",
    "'spam' * 3\n",
    "This expression evaluates to the string \"spamspamspam\". This is because the * operator is used to repeat a string a specified number of times. In this case, the string \"spam\" is repeated 3 times."
   ]
  },
  {
   "cell_type": "code",
   "execution_count": null,
   "id": "b3659e13-00b2-4a4f-8272-c19323c5fc13",
   "metadata": {},
   "outputs": [],
   "source": [
    "8. Why is eggs a valid variable name while 100 is invalid?\n",
    "\n",
    "here's why eggs is a valid variable name while 100 is invalid in Python:\n",
    "\n",
    "Variable names in Python can be any combination of letters, numbers, and underscores. However, the first character of a variable name must be a letter or an underscore.\n",
    "\n",
    "Numbers are not allowed to be the first character of a variable name. This is because numbers are reserved for numerical values.\n",
    "\n",
    "Keywords are also not allowed to be used as variable names. Keywords are reserved words in Python that have special meanings.\n",
    "\n",
    "So, eggs is a valid variable name because it starts with a letter and it does not contain any keywords. On the other hand, 100 is an invalid variable name because it starts with a number.\n",
    "\n",
    "Here are some examples of valid variable names in Python:\n",
    "\n",
    "my_variable\n",
    "eggs_and_spam\n",
    "_secret_variable\n",
    "Here are some examples of invalid variable names in Python:\n",
    "\n",
    "100\n",
    "keyword\n",
    "-variable"
   ]
  },
  {
   "cell_type": "code",
   "execution_count": null,
   "id": "7b6d69c5-e558-4ef9-ab1a-65231246d5ea",
   "metadata": {},
   "outputs": [],
   "source": [
    "9. What three functions can be used to get the integer, floating-point number, or string\n",
    "version of a value?\n",
    "\n",
    "here are three functions that can be used to get the integer, floating-point number, or string version of a value:\n",
    "\n",
    "int() - This function converts a value to an integer.\n",
    "float() - This function converts a value to a floating-point number.\n",
    "str() - This function converts a value to a string."
   ]
  },
  {
   "cell_type": "code",
   "execution_count": null,
   "id": "75d2d2b2-7cce-495b-85ef-1b4f7c0f8040",
   "metadata": {},
   "outputs": [],
   "source": [
    "10. Why does this expression cause an error? How can you fix it?\n",
    "'I have eaten' + 99 + 'burritos'\n",
    "\n",
    "\n",
    "The expression 'I have eaten' + 99 + 'burritos' causes an error because you are trying to concatenate a string and an integer. In Python, you cannot concatenate values of different data types.\n",
    "\n",
    "To fix this error, you can either convert the integer 99 to a string, or you can use the format() function to format the string and the integer together.\n",
    "\n",
    "Here are two ways to fix the error:\n",
    "\n",
    "Python\n",
    "# Convert the integer 99 to a string\n",
    "'I have eaten' + str(99) + 'burritos'\n",
    "\n",
    "# Use the format() function\n",
    "'I have eaten {} burritos'.format(99)\n",
    "The first option will convert the integer 99 to a string and then concatenate it with the string \"I have eaten\". The second option will use the format() function to format the string \"I have eaten\" and the integer 99 together. The format() function takes a number of arguments, and each argument is formatted according to its data type. In this case, the first argument is the string \"I have eaten\", and the second argument is the integer 99. The format() function will then return a new string that is formatted according to the arguments."
   ]
  }
 ],
 "metadata": {
  "kernelspec": {
   "display_name": "Python 3 (ipykernel)",
   "language": "python",
   "name": "python3"
  },
  "language_info": {
   "codemirror_mode": {
    "name": "ipython",
    "version": 3
   },
   "file_extension": ".py",
   "mimetype": "text/x-python",
   "name": "python",
   "nbconvert_exporter": "python",
   "pygments_lexer": "ipython3",
   "version": "3.10.6"
  }
 },
 "nbformat": 4,
 "nbformat_minor": 5
}
