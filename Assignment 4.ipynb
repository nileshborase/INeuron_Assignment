{
 "cells": [
  {
   "cell_type": "code",
   "execution_count": null,
   "id": "8b4f9924-7b55-478c-ac94-c9902316acd4",
   "metadata": {},
   "outputs": [],
   "source": [
    "[] are empty square brackets, which represent an empty list in Python.\n",
    "To assign the value 'hello' as the third value in the list spam, you can use the following code:\n",
    "Python\n",
    "spam[2] = 'hello'\n",
    "\n",
    "This will overwrite the value at index 2 of the list spam.\n",
    "\n",
    "The value of spam[int(int('3' * 2) / 11)] is 'd'. This is because the expression int(int('3' * 2) / 11) evaluates to 2, which is the index of the value 'd' in the list spam.\n",
    "\n",
    "The value of spam[-1] is 10. This is because -1 refers to the last element in a list.\n",
    "\n",
    "The value of spam[:2] is [2, 4]. This is because the slice [:2] returns all of the elements in the list spam from the beginning up to but not including index 2.\n",
    "\n",
    "The value of bacon.index('cat') is 1. This is because the index() method returns the index of the first occurrence of the specified value in the list.\n",
    "\n",
    "The bacon.append(99) method appends the value 99 to the end of the list bacon. This changes the look of the list value in bacon to [3.14, 'cat', 11, 'cat', True, 99].\n",
    "\n",
    "The bacon.remove('cat') method removes the first occurrence of the value 'cat' from the list bacon. This changes the look of the list value in bacon to [3.14, 11, 'cat', True, 99].\n",
    "\n",
    "The list concatenation operator is +. The list replication operator is *.\n",
    "\n",
    "The append() method appends a new element to the end of the list. The insert() method inserts a new element at a specified index in the list.\n",
    "\n",
    "The two methods for removing items from a list are the remove() method and the pop() method.\n",
    "\n",
    "List values and string values are identical in that they are both sequences of characters. However, there are some important differences between the two. For example, lists can contain any type of value, while strings can only contain characters. Additionally, lists are mutable, while strings are immutable. This means that the contents of a list can be changed, while the contents of a string cannot.\n",
    "\n",
    "The difference between tuples and lists is that tuples are immutable, while lists are mutable. This means that the contents of a tuple cannot be changed, while the contents of a list can be changed.\n",
    "\n",
    "To type a tuple value that only contains the integer 42, you can use the following code:\n",
    "\n",
    "Python\n",
    "my_tuple = (42,)\n",
    "The comma (,) at the end of the tuple is required, even though there is only one element in the tuple.\n",
    "\n",
    "To get a list value's tuple form, you can use the tuple() constructor. To get a tuple value's list form, you can use the list() constructor.\n",
    "Python\n",
    "# Get a list value's tuple form\n",
    "my_list = [1, 2, 3]\n",
    "my_tuple = tuple(my_list)\n",
    "\n",
    "# Get a tuple value's list form\n",
    "my_tuple = (1, 2, 3)\n",
    "my_list = list(my_tuple)\n",
    "Use code with caution. Learn more\n",
    "Variables that \"contain\" list values are not necessarily lists themselves. Instead, they contain a reference to the list object. This means that if you modify the list object through the variable, the changes will be reflected in the list object itself.\n",
    "\n",
    "The copy.copy() method creates a shallow copy of the list object. This means that the new list object will contain the same values as the original list object, but it will be a new object. The copy.deepcopy() method creates a deep copy of the list object. This means that the new list object will contain copies of the values in the original list object, even if those values are other objects."
   ]
  }
 ],
 "metadata": {
  "kernelspec": {
   "display_name": "Python 3 (ipykernel)",
   "language": "python",
   "name": "python3"
  },
  "language_info": {
   "codemirror_mode": {
    "name": "ipython",
    "version": 3
   },
   "file_extension": ".py",
   "mimetype": "text/x-python",
   "name": "python",
   "nbconvert_exporter": "python",
   "pygments_lexer": "ipython3",
   "version": "3.10.6"
  }
 },
 "nbformat": 4,
 "nbformat_minor": 5
}
