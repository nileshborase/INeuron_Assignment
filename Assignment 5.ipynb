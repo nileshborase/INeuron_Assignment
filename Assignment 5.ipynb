{
 "cells": [
  {
   "cell_type": "code",
   "execution_count": null,
   "id": "52872d85-69f0-491f-92e1-ea118a1bf77e",
   "metadata": {},
   "outputs": [],
   "source": [
    "\n",
    "\n",
    "1\n",
    "An empty dictionary's code looks like this:\n",
    "Python\n",
    "{}\n",
    "\n",
    "The value of a dictionary value with the key 'foo' and the value 42 is 42.\n",
    "\n",
    "The most significant distinction between a dictionary and a list is that a dictionary is a collection of key-value pairs, while a list is a collection of ordered values. This means that you can access values in a dictionary using the keys, but you can only access values in a list using their index.\n",
    "\n",
    "If you try to access spam['foo'] if spam is { 'bar': 100 }, you will get a KeyError exception. This is because the key 'foo' does not exist in the dictionary spam.\n",
    "\n",
    "The expression 'cat' in spam returns True if the key 'cat' exists in the dictionary spam, and False otherwise. The expression 'cat' in spam.keys() returns True if the key 'cat' exists in the dictionary spam, and False otherwise.\n",
    "\n",
    "The expression 'cat' in spam returns True if the key 'cat' exists in the dictionary spam, and False otherwise. The expression 'cat' in spam.values() returns True if there is a value in the dictionary spam that is equal to 'cat', and False otherwise.\n",
    "\n",
    "A shortcut for the following code:\n",
    "\n",
    "Python\n",
    "if 'color' not in spam:\n",
    "  spam['color'] = 'black'\n",
    "\n",
    "is:\n",
    "\n",
    "Python\n",
    "spam.setdefault('color', 'black')\n",
    "\n",
    "The setdefault() method takes two arguments: a key and a default value. If the key does not exist in the dictionary, the setdefault() method will add it to the dictionary with the specified default value. Otherwise, the setdefault() method will simply return the value that is already associated with the key.\n",
    "\n",
    "You can \"pretty print\" dictionary values using the json module and the dumps() function. The dumps() function takes a Python object as input and returns a JSON string. The following code shows how to use the json module to pretty print the values in a dictionary:\n",
    "Python\n",
    "import json\n",
    "\n",
    "spam = {'foo': 42, 'bar': 100}\n",
    "\n",
    "json_string = json.dumps(spam, indent=4)\n",
    "\n",
    "print(json_string)\n",
    "\n",
    "Output:\n",
    "\n",
    "JSON\n",
    "{\n",
    "  \"foo\": 42,\n",
    "  \"bar\": 100\n",
    "}"
   ]
  }
 ],
 "metadata": {
  "kernelspec": {
   "display_name": "Python 3 (ipykernel)",
   "language": "python",
   "name": "python3"
  },
  "language_info": {
   "codemirror_mode": {
    "name": "ipython",
    "version": 3
   },
   "file_extension": ".py",
   "mimetype": "text/x-python",
   "name": "python",
   "nbconvert_exporter": "python",
   "pygments_lexer": "ipython3",
   "version": "3.10.6"
  }
 },
 "nbformat": 4,
 "nbformat_minor": 5
}
